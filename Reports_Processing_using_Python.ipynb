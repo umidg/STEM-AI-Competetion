{
  "cells": [
    {
      "cell_type": "code",
      "execution_count": null,
      "metadata": {
        "colab": {
          "base_uri": "https://localhost:8080/"
        },
        "id": "0KIpm-4y7idz",
        "outputId": "3fcb16a5-238e-4e54-c1c3-9f7724f91d90"
      },
      "outputs": [
        {
          "name": "stdout",
          "output_type": "stream",
          "text": [
            "Mounted at /gdrive\n"
          ]
        }
      ],
      "source": [
        "from google.colab import drive  # Import the 'drive' module from the 'google.colab' package\n",
        "\n",
        "drive.mount('/gdrive')  # Mount the Google Drive filesystem to the '/gdrive' directory"
      ]
    },
    {
      "cell_type": "code",
      "execution_count": null,
      "metadata": {
        "id": "vIm-iXnm7yGS"
      },
      "outputs": [],
      "source": [
        "!pip install nltk\n",
        "!pip install pymupdf\n",
        "!apt-get install poppler-utils\n",
        "!pip install pytesseract\n",
        "!apt install tesseract-ocr\n",
        "!apt install libtesseract-dev\n",
        "!pip install Pillow\n",
        "!pip install pytesseract\n",
        "!pip install PyPDF2\n",
        "!pip install pdf2image\n",
        "!pip install beautifulsoup4\n",
        "!pip install textract"
      ]
    },
    {
      "cell_type": "code",
      "execution_count": null,
      "metadata": {
        "id": "JY_xqcHH8CQO"
      },
      "outputs": [],
      "source": [
        "import glob  # Module for file pattern matching\n",
        "import os  # Module for operating system functions\n",
        "import nltk  # Natural Language Toolkit library\n",
        "import numpy as np  # Library for numerical computations\n",
        "from nltk.corpus import stopwords  # Corpus containing stopwords\n",
        "from nltk.tokenize import word_tokenize  # Tokenization function\n",
        "import json  # Library for JSON handling\n",
        "import re  # Regular expression operations\n",
        "from nltk.stem.wordnet import WordNetLemmatizer  # Lemmatization function\n",
        "import io  # Module for handling I/O operations\n",
        "import pandas as pd  # Library for data manipulation and analysis\n",
        "import PyPDF2  # Library for working with PDF files\n",
        "import pandas as pd  # Library for data manipulation and analysis\n",
        "import re  # Regular expression operations\n",
        "import textract  # Library for extracting text from various file formats\n",
        "from datetime import datetime, date  # Modules for date and time manipulation"
      ]
    },
    {
      "cell_type": "code",
      "execution_count": null,
      "metadata": {
        "id": "1bOT1GloSuu7"
      },
      "outputs": [],
      "source": [
        "pd.set_option('max_colwidth', 400)  # Set the maximum width of each column in pandas DataFrame to 400 characters\n",
        "pd.describe_option('max_colwidth')  # Display the description of the 'max_colwidth' option in pandas"
      ]
    },
    {
      "cell_type": "code",
      "execution_count": null,
      "metadata": {
        "id": "lLJCchUx8Rlr"
      },
      "outputs": [],
      "source": [
        "class ExtractData:\n",
        "    def __init__(self, df):\n",
        "        self.df = df\n",
        "\n",
        "    def process(self):\n",
        "        \"\"\"\n",
        "        Process all documents. The process reads the first page per pdf.\n",
        "        \"\"\"\n",
        "        self.__read_pdf()\n",
        "        return self.df\n",
        "\n",
        "\n",
        "    def __read_pdf(self):\n",
        "        \"\"\"\n",
        "        Read all pdfs\n",
        "        \"\"\"\n",
        "        # Get a list of PDF file paths\n",
        "        pdf_files = glob.glob(\"/gdrive/MyDrive/covid_pdf/*.pdf\")\n",
        "        # Directory to save JSON files\n",
        "        json_dir = \"/gdrive/MyDrive/covid_json/\"\n",
        "\n",
        "        for pdf_path in pdf_files:\n",
        "            # Extract the file name and remove the extension\n",
        "            file_name = os.path.basename(pdf_path)\n",
        "            file_without_ext = os.path.splitext(file_name)[0]\n",
        "            # Create the corresponding JSON file path\n",
        "            json_path = os.path.join(json_dir, file_without_ext + \".json\")\n",
        "            # Save the PDF content as JSON\n",
        "            self.__save_json(pdf_path, json_path)\n",
        "\n",
        "    @staticmethod\n",
        "    def __text_from_pdf(pdf_path):\n",
        "        \"\"\"\n",
        "        Convert the PDF Files to JSON Format\n",
        "\n",
        "        :param pdf_path: Path of the PDF file\n",
        "        :return: Text extracted from the PDF file in UTF-8 encoding\n",
        "        \"\"\"\n",
        "        # Extract text from the PDF using Tesseract OCR engine\n",
        "        text = textract.process(pdf_path, method='tesseract', encoding='utf-8', language='eng')\n",
        "        # Decode the extracted text from UTF-8 encoding\n",
        "        text = text.decode(\"utf-8\")\n",
        "\n",
        "        return text if text else None\n",
        "\n",
        "    def __save_json(self, pdf_path, json_path):\n",
        "        \"\"\"\n",
        "        Save JSON files in the Directory\n",
        "\n",
        "        :param pdf_path: Path of the PDF file\n",
        "        :param json_path: Path to save the JSON file\n",
        "        :return: None\n",
        "        \"\"\"\n",
        "        # Extract the file name without extension\n",
        "        filename = os.path.splitext(os.path.basename(pdf_path))[0]\n",
        "        # Create a dictionary to store filename and text\n",
        "        data = {\"Filename\": filename}\n",
        "        # Extract text from the PDF and assign it to the 'Text' key in the dictionary\n",
        "        data[\"Text\"] = self.__text_from_pdf(pdf_path)\n",
        "\n",
        "        # Save the dictionary as a JSON file\n",
        "        with open(json_path, \"w\") as fh:\n",
        "            json.dump(data, fh, ensure_ascii=False)\n",
        "\n",
        "        # Concatenate the extracted data with the existing DataFrame\n",
        "        self.df = pd.concat([self.df, pd.DataFrame([data])], ignore_index=True)\n",
        "\n",
        "class TransformData:\n",
        "    def __init__(self, df):\n",
        "      self.df = df.copy()\n",
        "\n",
        "    def process(self):\n",
        "      # Extract information from the 'Text' column and assign it to new columns in the DataFrame\n",
        "      self.df[\"CT\"] = np.vectorize(self.__extract_ct)(self.df[\"Text\"])\n",
        "      self.df[\"Gender\"] = np.vectorize(self.__extract_gender)(self.df[\"Text\"])\n",
        "      self.df[\"Age\"] = np.vectorize(self.__extract_age)(self.df[\"Text\"])\n",
        "      self.df[\"PCR_Status\"] = np.vectorize(self.__extract_result)(self.df[\"Text\"])\n",
        "      self.df[\"Date\"] = np.vectorize(self.__extract_date)(self.df[\"Text\"])\n",
        "      self.df[\"Location\"] = np.vectorize(self.__extract_location)(self.df[\"Text\"])\n",
        "\n",
        "      # Convert the 'Date' column to datetime format\n",
        "      self.df[\"Date\"] = pd.to_datetime(self.df[\"Date\"])\n",
        "\n",
        "      return self.df\n",
        "\n",
        "    def __remove_special_char(self, text):\n",
        "      # Remove special characters from the text\n",
        "      return re.sub(\"[!@#~`%^&*(){};:/<>?\\|_]\", \" \", text)\n",
        "\n",
        "    def __extract_date(self, text):\n",
        "      # Extract the date from the text using regular expressions\n",
        "      date = None\n",
        "      _date = re.findall(r\"Sample Drawn On[\\_]?\\s*?[\\:\\+\\;]?\\s*?.[0-9]*?[\\/][0-9]*[\\/][0-9]{4}|Report generated on[\\\\n|\\n]*Date\\:.+?[0-9]*?[\\.][0-9]*[\\.][0-9]{4}|Reported\\s*?\\:?\\s*?.[0-9]*?[\\/][\\w]*[\\/][0-9]{4}|ported\\s*?\\:?\\s*?.[0-9]*?[\\-][\\w]*[\\-][0-9]{4}|Report Released on \\(RRT\\)[\\n|\\\\n]*?.[0-9]? [\\w]* [0-9]{4}|Reported Date[\\s]*?\\:[\\s]*?[0-9]*?[\\/][0-9]*[\\/][0-9]{2}|Date and time of reporting[\\n|\\\\n]*?.[0-9]*?[\\.][0-9]*?[\\.][0-9]{4}|Date of Service\\:[\\s]*?.[0-9]*?[\\/][0-9]*?[\\/][0-9]{4}|[|] Report Released on.+[0-9]{2} [\\w]* [0-9]{4}|Report Dispatched Date\\:\\s*?[0-9]{4}[\\-][0-9]*[\\-][0-9]{2}|Received [\\+|\\=\\:] [0-9]*?[\\/][0-9]*?[\\/][0-9]{4}|\\s\\w+\\s*[0-9]+[\\,]\\s*[0-9]{4}.+ET|Reported On \\: [0-9]*?[\\-][0-9]*?[\\-][0-9]{4}|Report Released on.+\\n*.+\\(RR.+[0-9]*\\s*[\\w]+\\s*[0-9]{4}\", text)\n",
        "      if _date:\n",
        "          date = _date[0].upper()\n",
        "          date = date.replace(\"REPORT RELEASED ON (RRT)\\n\\n\", \"\")\n",
        "          date = date.replace(\"REPORTED DATE :\", \"\")\n",
        "          date = date.replace(\"DATE AND TIME OF REPORTING\\n\\n\", \"\")\n",
        "          date = date.replace(\"SAMPLE DRAWN ON_ :\", \"\")\n",
        "          date = date.replace(\"DATE AND TIME OF REPORTING\", \"\")\n",
        "          date = date.replace(\"REPORTED DATE:\", \"\")\n",
        "          date = date.replace(\"SAMPLE DRAWN ON:\", \"\")\n",
        "          date = date.replace(\"DATE OF SERVICE:\", \"\")\n",
        "          date = date.replace(\"REPORT GENERATED ON\\n\\nDATE:\", \"\")\n",
        "          date = date.replace(\"SAMPLE DRAWN ON;\", \"\")\n",
        "          date = date.replace(\"REPORT DISPATCHED DATE:\", \"\")\n",
        "          date = date.replace(\"REPORTED =\", \"\")\n",
        "          date = date.replace(\"REPORTED :\", \"\")\n",
        "          date = date.replace(\"PORTED :\", \"\")\n",
        "          date = date.replace(\"RECEIVED : \", \"\")\n",
        "          date = date.replace(\"REPORTED ON : \", \"\")\n",
        "          date = re.sub(r\" ET$\", \"\", date)\n",
        "          date = date.replace(\".\", \"/\")\n",
        "          date = re.sub(r\"^\\[\", \"\", date)\n",
        "          date = date.replace(\"\\n\", \"\")\n",
        "          date = date.replace(\"REPORT RELEASED ON : / :| (RR :\", \"\")\n",
        "          date = date.strip()\n",
        "\n",
        "      return date\n",
        "\n",
        "    def __extract_location(self, text):\n",
        "      # Extract the location from the text using regular expressions\n",
        "      location = \"INDIA\"\n",
        "      _location = re.findall(r\"Facility Name CHC.+[\\n|\\\\n]*?Patient Name|Location\\s\\w+\\,\\s\\w+|\\w*\\s*\\w*\\,\\s*\\w*\\s*\\w*\\s\\w*\\-*[\\n\\s0-9]*.+wellness@thyrocare\\.com|.+\\w+\\,\\s*\\w+\\s[0-9]*\\nMedical Director\\:|.+\\w+\\,\\s*\\w+\\s[0-9]*.Medical\\nDirector\\:|HOSPITAL SAIL|Hospital\\, Rourkela|Madinaguda\\, Serlingampally|PROGRESS DRIVE|LANE\\, CARSON CITY|DELHI|Bagmati Province\\, Nepal|Tirana\\, Albania\", text)\n",
        "      if _location:\n",
        "          location = _location[0].upper()\n",
        "          location = location.replace(\"FACILITY NAME CHC\", \"\")\n",
        "          location = location.replace(\"PATIENT NAME\", \"\")\n",
        "          location = location.replace(\"LOCATION\", \"\")\n",
        "          location = location.replace(\"WELLNESS@THYROCARE.COM\", \"\")\n",
        "          location = re.sub(\"[\\d|\\©|\\n|\\\\n|\\-|\\/|\\®|\\&]\", \"\", location)\n",
        "          location = location.strip()\n",
        "          if \"MEDICAL DIRECTOR\" in location or \"MEDICALDIRECTOR:\" in location or \"PROGRESS DRIVE\" in location or \"LANE, CARSON CITY\" in location:\n",
        "            location = \"USA\"\n",
        "          if \"HOSPITAL SAIL\" in location or \"HOSPITAL, ROURKELA\" in location or \"MADINAGUDA, SERLINGAMPALLY\" in location or \"DELHI\" in location:\n",
        "            location = \"INDIA\"\n",
        "\n",
        "      return location\n",
        "\n",
        "    def __extract_result(self, text):\n",
        "      # Extract the PCR result from the text using regular expressions\n",
        "      _detected = re.findall(r\"DETECTED\\(NEGATIVE\\)|Result Negative| Not Detected |DETECTED\\(Negative\\)|QUALITATIVE PCR NOT DETECTED|\\sNEGATIVE[\\\\n|\\n]|RNA NOT DETECTED NOT| System\\) Negative[\\\\n|\\n]|Negative[\\\\n|\\n]*\\(Real Time PCR\\)|[\\n|\\\\n]*Result.+Negative[\\n|\\\\n]*|RNA NOT DETECTED NOT\", text)\n",
        "      if _detected:\n",
        "          return \"NO\"\n",
        "      _detected = re.findall(r'PCR POSITIVE|\\:\\sDETECTED\\([POSITIVE|positive]*\\)[\\\\n|\\n]|PCR DETECTED[\\n|\\\\n]|PCR IDETECTED\\(Positive\\)|\\\\nResult Positive\\\\n|[\\n|\\\\n]Result [Positive|POSITIVE]*[\\n|\\\\n]|Result[\\n|\\s]*Negative|[\\n|\\\\n]Result positive[\\n|\\\\n]', text)\n",
        "      if _detected:\n",
        "          return \"YES\"\n",
        "      return None\n",
        "\n",
        "    def __extract_ct(self, text):\n",
        "      # Extract the CT value from the text using regular expressions\n",
        "      name =  None\n",
        "      _name = re.findall(r\"CT VALUE [0-9]+[\\.|\\,][0-9]+\", text)\n",
        "      if _name:\n",
        "          name = _name[0].upper()\n",
        "          name = name.replace(\"CT VALUE \", \"\").strip()\n",
        "\n",
        "      return name\n",
        "\n",
        "    def __extract_gender(self, text):\n",
        "      # Extract the gender from the text using regular expressions\n",
        "      gender =  None\n",
        "\n",
        "      _gender = re.findall(r\"Years\\s*[\\/]\\s*\\b[\\w]+\\b|Gender\\s*(?!\\d)\\w+|\\/\\w+\\s*Barcode No|[0-9]+[¥|Y]\\/[A-Z]|Gender\\s\\:\\s[a-zA-Z]+|\\| [\\d]+ \\[[MALE|FEMALE|\\w]+\\s*\\||Gender\\:\\s\\w+\\|[FEMALE|MALE]|Gender: [Female|Male]| [0-9]?[0-9][\\.] \\|[FEMALE|MALE]|[\\d]?[\\d] \\|[FEMALE|MALE]|Yrs \\/ [Male|Female]|reEMALE|\\[FEMALE\", text)\n",
        "      if _gender:\n",
        "        gender = _gender[0].upper()\n",
        "        gender = gender.replace(\"YEARS\", \"\")\n",
        "        gender = gender.replace(\"GENDER\", \"\")\n",
        "        gender = gender.replace(\"BARCODE NO\", \"\")\n",
        "        gender = gender.replace(\"YRS\", \"\")\n",
        "        gender = gender.replace(\"REEMALE\", \"F\")\n",
        "        gender = self.__remove_special_char(gender.strip().replace(r\"\\n\", \"\")).strip()\n",
        "        gender = re.sub(r\"^[0-9]+[Y|¥]\", \"\", gender).strip()\n",
        "        gender = re.sub(r\"^\\d+\\s\\[\", \"\", gender).strip()\n",
        "        gender = re.sub(r\"\\d\", \"\", gender).strip()\n",
        "        gender = gender.replace(\".\", \"\").strip()\n",
        "        gender = gender.replace(\"[\",\"\")\n",
        "        if gender in [\"M\", \"A\"]:\n",
        "            gender = \"MALE\"\n",
        "        if gender == \"F\":\n",
        "            gender = \"FEMALE\"\n",
        "\n",
        "      return gender\n",
        "\n",
        "    def __extract_age(self, text):\n",
        "      # Extract the age from the text using regular expressions\n",
        "      age =  None\n",
        "      _age = re.findall(r\"\\d+\\s+[Yy]ears|Age\\s*\\d+|Gender\\s*[\\:]?\\d+|[0-9]+[¥|Y]\\/[A-Z]|Birth\\s\\:\\s[\\d]?[\\d]\\/[\\d]?[\\d]\\/[\\d]{4}\\s*\\(\\d+\\)|Collection location[\\\\n|\\n]*[a-zA-Z].+[0-9]+\\,\\s*[0-9]{4}|\\| [\\d]+ \\[[MALE|FEMALE]|Date of Birth\\:\\s[\\d]?[\\d]\\/[\\d]?[\\d]\\/[\\d]{4}|\\s[0-9]*\\s\\|[FEMALE|MALE]|[\\|]? [\\d]+[\\.]? [\\||\\[]?[MALE|FEMALE|reEMALE]|Age: [0-9]* Gender|Gender : [0-9]* Yrs\", text)\n",
        "      if _age:\n",
        "        age = _age[0].upper()\n",
        "        _age = re.findall(r\"\\(\\d+\\)$\", age)\n",
        "        if _age:\n",
        "          age = _age[0].upper()\n",
        "        _age = re.findall(r\"^\\d+\", age)\n",
        "        if _age:\n",
        "          age = _age[0].upper()\n",
        "        age = age.replace(\"YEARS\", \"\")\n",
        "        age = age.replace(\"AGE\", \"\")\n",
        "        age = age.replace(\"GENDER\", \"\")\n",
        "        age = age.replace(\"COLLECTION LOCATION\\n\\n\", \"\")\n",
        "        age = age.replace(\"DATE OF BIRTH: \", \"\")\n",
        "        age = age.replace(\"F\", \"\")\n",
        "        age = age.replace(\"M\", \"\").strip()\n",
        "        age = age.replace(\"YRS\",\"\")\n",
        "        age = age.replace(\"R\", \"\")\n",
        "\n",
        "        if len(age) > 9:\n",
        "          today = date.today()\n",
        "          age = age.replace(\" \",\"/\")\n",
        "          born = datetime.strptime(str(pd.to_datetime(age)).replace(\"00\",\"\").replace(\":\",\"\").strip(), \"%Y-%m-%d\").date()\n",
        "          age = str(today.year - born.year - ((today.month, today.day) < (born.month, born.day)))\n",
        "        else:\n",
        "          age = self.__remove_special_char(age).strip()\n",
        "        age = age.replace(\" [M\", \"\")\n",
        "        age = age.replace(\" [F\", \"\")\n",
        "        age = age.replace(\" [\", \"\")\n",
        "      return age"
      ]
    },
    {
      "cell_type": "code",
      "execution_count": null,
      "metadata": {
        "id": "sa2fRVT4-HOG"
      },
      "outputs": [],
      "source": [
        "# Create DataFrame\n",
        "df = pd.DataFrame({})\n",
        "\n",
        "# Create an instance of the ExtractData class with the input DataFrame 'df'\n",
        "extract_data = ExtractData(df)\n",
        "\n",
        "# Apply the data extraction process by calling the 'process' method of the ExtractData instance\n",
        "# The 'process' method reads PDF files, converts them to JSON format, and updates the DataFrame with the extracted data\n",
        "# The updated DataFrame is returned and assigned back to the variable 'df'\n",
        "df = extract_data.process()"
      ]
    },
    {
      "cell_type": "code",
      "execution_count": null,
      "metadata": {
        "colab": {
          "base_uri": "https://localhost:8080/"
        },
        "id": "TdekyUcK-LxG",
        "outputId": "9bf5a187-e818-4544-926d-6a9205c987b4"
      },
      "outputs": [
        {
          "name": "stderr",
          "output_type": "stream",
          "text": [
            "<ipython-input-445-8fcf86b2dbc8>:210: UserWarning: Parsing dates in DD/MM/YYYY format when dayfirst=False (the default) was specified. This may lead to inconsistently parsed dates! Specify a format to ensure consistent parsing.\n",
            "  born = datetime.strptime(str(pd.to_datetime(age)).replace(\"00\",\"\").replace(\":\",\"\").strip(), \"%Y-%m-%d\").date()\n",
            "<ipython-input-445-8fcf86b2dbc8>:82: UserWarning: Parsing dates in DD/MM/YYYY format when dayfirst=False (the default) was specified. This may lead to inconsistently parsed dates! Specify a format to ensure consistent parsing.\n",
            "  self.df[\"Date\"] = pd.to_datetime(self.df[\"Date\"])\n"
          ]
        }
      ],
      "source": [
        "# Create an instance of the TransformData class with the input DataFrame 'df'\n",
        "transform = TransformData(df)\n",
        "\n",
        "# Apply the data transformation process by calling the 'process' method of the TransformData instance\n",
        "# The 'process' method performs various data extraction and transformation operations on the DataFrame\n",
        "# and returns the transformed DataFrame\n",
        "df = transform.process()"
      ]
    },
    {
      "cell_type": "code",
      "execution_count": null,
      "metadata": {
        "id": "UUaJGReoTLFU"
      },
      "outputs": [],
      "source": [
        "# Update the values in the 'Location' column for specific locations\n",
        "# If the value in the 'Location' column is any of the specified locations (VARNI, BODHAN, WARANGAL, MUMBAI, DELHI),\n",
        "# replace it with \"INDIA\"\n",
        "df.loc[df[\"Location\"].isin([\"VARNI\",\"BODHAN\", \"WARANGAL\", \"MUMBAI\", \"DELHI\"]), \"Location\"] = \"INDIA\""
      ]
    },
    {
      "cell_type": "code",
      "execution_count": null,
      "metadata": {
        "id": "ik3gFP0YysNT"
      },
      "outputs": [],
      "source": [
        "# Select specific columns from the DataFrame 'df' using double square brackets\n",
        "# The selected columns are \"Date\", \"PCR_Status\", \"Gender\", \"Age\", \"Location\", and \"CT\"\n",
        "selected_columns = df[[\"Date\", \"PCR_Status\", \"Gender\", \"Age\", \"Location\", \"CT\"]]\n",
        "\n",
        "# Convert the selected columns to a CSV file named \"result.csv\" using the 'to_csv' method\n",
        "selected_columns.to_csv(\"result.csv\")"
      ]
    },
    {
      "cell_type": "code",
      "execution_count": null,
      "metadata": {
        "id": "91jBybadRfbS"
      },
      "outputs": [],
      "source": []
    }
  ],
  "metadata": {
    "colab": {
      "provenance": []
    },
    "kernelspec": {
      "display_name": "Python 3 (ipykernel)",
      "language": "python",
      "name": "python3"
    },
    "language_info": {
      "codemirror_mode": {
        "name": "ipython",
        "version": 3
      },
      "file_extension": ".py",
      "mimetype": "text/x-python",
      "name": "python",
      "nbconvert_exporter": "python",
      "pygments_lexer": "ipython3",
      "version": "3.9.13"
    }
  },
  "nbformat": 4,
  "nbformat_minor": 0
}